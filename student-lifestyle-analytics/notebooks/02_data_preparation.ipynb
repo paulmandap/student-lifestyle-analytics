{
 "cells": [
  {
   "cell_type": "markdown",
   "id": "13bc838b",
   "metadata": {},
   "source": [
    "# Student Lifestyle Analytics — Data Preparation (Step 3)"
   ]
  },
  {
   "cell_type": "markdown",
   "id": "eb22f076",
   "metadata": {},
   "source": [
    "# 1. Setup & Load"
   ]
  },
  {
   "cell_type": "code",
   "execution_count": 1,
   "id": "a2567c9b",
   "metadata": {},
   "outputs": [
    {
     "data": {
      "text/html": [
       "<div>\n",
       "<style scoped>\n",
       "    .dataframe tbody tr th:only-of-type {\n",
       "        vertical-align: middle;\n",
       "    }\n",
       "\n",
       "    .dataframe tbody tr th {\n",
       "        vertical-align: top;\n",
       "    }\n",
       "\n",
       "    .dataframe thead th {\n",
       "        text-align: right;\n",
       "    }\n",
       "</style>\n",
       "<table border=\"1\" class=\"dataframe\">\n",
       "  <thead>\n",
       "    <tr style=\"text-align: right;\">\n",
       "      <th></th>\n",
       "      <th>Student_ID</th>\n",
       "      <th>Study_Hours_Per_Day</th>\n",
       "      <th>Extracurricular_Hours_Per_Day</th>\n",
       "      <th>Sleep_Hours_Per_Day</th>\n",
       "      <th>Social_Hours_Per_Day</th>\n",
       "      <th>Physical_Activity_Hours_Per_Day</th>\n",
       "      <th>GPA</th>\n",
       "      <th>Stress_Level</th>\n",
       "      <th>GPA_Quartile</th>\n",
       "    </tr>\n",
       "  </thead>\n",
       "  <tbody>\n",
       "    <tr>\n",
       "      <th>0</th>\n",
       "      <td>1</td>\n",
       "      <td>6.9</td>\n",
       "      <td>3.8</td>\n",
       "      <td>8.7</td>\n",
       "      <td>2.8</td>\n",
       "      <td>1.8</td>\n",
       "      <td>2.99</td>\n",
       "      <td>Moderate</td>\n",
       "      <td>Q2</td>\n",
       "    </tr>\n",
       "    <tr>\n",
       "      <th>1</th>\n",
       "      <td>2</td>\n",
       "      <td>5.3</td>\n",
       "      <td>3.5</td>\n",
       "      <td>8.0</td>\n",
       "      <td>4.2</td>\n",
       "      <td>3.0</td>\n",
       "      <td>2.75</td>\n",
       "      <td>Low</td>\n",
       "      <td>Q1_lowest</td>\n",
       "    </tr>\n",
       "    <tr>\n",
       "      <th>2</th>\n",
       "      <td>3</td>\n",
       "      <td>5.1</td>\n",
       "      <td>3.9</td>\n",
       "      <td>9.2</td>\n",
       "      <td>1.2</td>\n",
       "      <td>4.6</td>\n",
       "      <td>2.67</td>\n",
       "      <td>Low</td>\n",
       "      <td>Q1_lowest</td>\n",
       "    </tr>\n",
       "    <tr>\n",
       "      <th>3</th>\n",
       "      <td>4</td>\n",
       "      <td>6.5</td>\n",
       "      <td>2.1</td>\n",
       "      <td>7.2</td>\n",
       "      <td>1.7</td>\n",
       "      <td>6.5</td>\n",
       "      <td>2.88</td>\n",
       "      <td>Moderate</td>\n",
       "      <td>Q1_lowest</td>\n",
       "    </tr>\n",
       "    <tr>\n",
       "      <th>4</th>\n",
       "      <td>5</td>\n",
       "      <td>8.1</td>\n",
       "      <td>0.6</td>\n",
       "      <td>6.5</td>\n",
       "      <td>2.2</td>\n",
       "      <td>6.6</td>\n",
       "      <td>3.51</td>\n",
       "      <td>High</td>\n",
       "      <td>Q4_highest</td>\n",
       "    </tr>\n",
       "  </tbody>\n",
       "</table>\n",
       "</div>"
      ],
      "text/plain": [
       "   Student_ID  Study_Hours_Per_Day  Extracurricular_Hours_Per_Day  \\\n",
       "0           1                  6.9                            3.8   \n",
       "1           2                  5.3                            3.5   \n",
       "2           3                  5.1                            3.9   \n",
       "3           4                  6.5                            2.1   \n",
       "4           5                  8.1                            0.6   \n",
       "\n",
       "   Sleep_Hours_Per_Day  Social_Hours_Per_Day  Physical_Activity_Hours_Per_Day  \\\n",
       "0                  8.7                   2.8                              1.8   \n",
       "1                  8.0                   4.2                              3.0   \n",
       "2                  9.2                   1.2                              4.6   \n",
       "3                  7.2                   1.7                              6.5   \n",
       "4                  6.5                   2.2                              6.6   \n",
       "\n",
       "    GPA Stress_Level GPA_Quartile  \n",
       "0  2.99     Moderate           Q2  \n",
       "1  2.75          Low    Q1_lowest  \n",
       "2  2.67          Low    Q1_lowest  \n",
       "3  2.88     Moderate    Q1_lowest  \n",
       "4  3.51         High   Q4_highest  "
      ]
     },
     "execution_count": 1,
     "metadata": {},
     "output_type": "execute_result"
    }
   ],
   "source": [
    "import pandas as pd\n",
    "\n",
    "df = pd.read_csv(\"../data/interim/student_lifestyle_clean.csv\")\n",
    "df.head()"
   ]
  },
  {
   "cell_type": "markdown",
   "id": "817587e5",
   "metadata": {},
   "source": [
    "# 2. Handle Outliers"
   ]
  },
  {
   "cell_type": "markdown",
   "id": "0201af30",
   "metadata": {},
   "source": [
    "- Cap Physical_Activity_Hours_Per_Day at 10h."
   ]
  },
  {
   "cell_type": "code",
   "execution_count": 2,
   "id": "a729996d",
   "metadata": {},
   "outputs": [],
   "source": [
    "df[\"Physical_Activity_Hours_Per_Day\"] = df[\"Physical_Activity_Hours_Per_Day\"].clip(upper=10)"
   ]
  },
  {
   "cell_type": "markdown",
   "id": "2491ae8e",
   "metadata": {},
   "source": [
    "- Optional: remove rows where total hours > 24."
   ]
  },
  {
   "cell_type": "code",
   "execution_count": 3,
   "id": "d87de24d",
   "metadata": {},
   "outputs": [],
   "source": [
    "df[\"Total_Hours\"] = (\n",
    "    df[\"Study_Hours_Per_Day\"] + df[\"Sleep_Hours_Per_Day\"] +\n",
    "    df[\"Social_Hours_Per_Day\"] + df[\"Extracurricular_Hours_Per_Day\"] +\n",
    "    df[\"Physical_Activity_Hours_Per_Day\"]\n",
    ")\n",
    "df = df[df[\"Total_Hours\"] <= 24]"
   ]
  },
  {
   "cell_type": "markdown",
   "id": "b4c4fbd1",
   "metadata": {},
   "source": [
    "# 3. Encode Categorical Variables"
   ]
  },
  {
   "cell_type": "markdown",
   "id": "d1d4a639",
   "metadata": {},
   "source": [
    "- Convert Stress_Level (Low, Moderate, High) into ordered categories."
   ]
  },
  {
   "cell_type": "code",
   "execution_count": 4,
   "id": "c7fe16b6",
   "metadata": {},
   "outputs": [],
   "source": [
    "df[\"Stress_Level\"] = pd.Categorical(\n",
    "    df[\"Stress_Level\"], categories=[\"Low\",\"Moderate\",\"High\"], ordered=True\n",
    ")"
   ]
  },
  {
   "cell_type": "markdown",
   "id": "a9fe037f",
   "metadata": {},
   "source": [
    "- For ML modeling later, add dummy variables:"
   ]
  },
  {
   "cell_type": "code",
   "execution_count": 5,
   "id": "dbfa8bd3",
   "metadata": {},
   "outputs": [],
   "source": [
    "df = pd.get_dummies(df, columns=[\"Stress_Level\"], drop_first=True)"
   ]
  },
  {
   "cell_type": "markdown",
   "id": "2a42fca8",
   "metadata": {},
   "source": [
    "# 4. Feature Engineering"
   ]
  },
  {
   "cell_type": "markdown",
   "id": "4751e46f",
   "metadata": {},
   "source": [
    "Create useful derived features:"
   ]
  },
  {
   "cell_type": "markdown",
   "id": "3c1c874a",
   "metadata": {},
   "source": [
    "- 4.1 Study-to-Sleep Ratio (balance measure):"
   ]
  },
  {
   "cell_type": "code",
   "execution_count": 6,
   "id": "3a8b3e5f",
   "metadata": {},
   "outputs": [],
   "source": [
    "df[\"Study_Sleep_Ratio\"] = df[\"Study_Hours_Per_Day\"] / df[\"Sleep_Hours_Per_Day\"]"
   ]
  },
  {
   "cell_type": "markdown",
   "id": "942c20b5",
   "metadata": {},
   "source": [
    "- 4.2 Total Active Hours (study + physical + extracurricular + social):"
   ]
  },
  {
   "cell_type": "code",
   "execution_count": 7,
   "id": "5d09423e",
   "metadata": {},
   "outputs": [],
   "source": [
    "df[\"Active_Hours\"] = (\n",
    "    df[\"Study_Hours_Per_Day\"] + df[\"Physical_Activity_Hours_Per_Day\"] +\n",
    "    df[\"Extracurricular_Hours_Per_Day\"] + df[\"Social_Hours_Per_Day\"]\n",
    ")"
   ]
  },
  {
   "cell_type": "markdown",
   "id": "dd987695",
   "metadata": {},
   "source": [
    "4.3 GPA Quartile (for comparisons & dashboard filters):"
   ]
  },
  {
   "cell_type": "code",
   "execution_count": 8,
   "id": "4080ab97",
   "metadata": {},
   "outputs": [],
   "source": [
    "df[\"GPA_Quartile\"] = pd.qcut(df[\"GPA\"], 4, labels=[\"Q1_Lowest\",\"Q2\",\"Q3\",\"Q4_Highest\"])"
   ]
  },
  {
   "cell_type": "markdown",
   "id": "9db35e0c",
   "metadata": {},
   "source": [
    "# 5. Validate Cleaned Data"
   ]
  },
  {
   "cell_type": "markdown",
   "id": "91f4930f",
   "metadata": {},
   "source": [
    "Quick sanity checks:"
   ]
  },
  {
   "cell_type": "code",
   "execution_count": 9,
   "id": "6b9bb3de",
   "metadata": {},
   "outputs": [
    {
     "name": "stdout",
     "output_type": "stream",
     "text": [
      "Student_ID                         0\n",
      "Study_Hours_Per_Day                0\n",
      "Extracurricular_Hours_Per_Day      0\n",
      "Sleep_Hours_Per_Day                0\n",
      "Social_Hours_Per_Day               0\n",
      "Physical_Activity_Hours_Per_Day    0\n",
      "GPA                                0\n",
      "GPA_Quartile                       0\n",
      "Total_Hours                        0\n",
      "Stress_Level_Moderate              0\n",
      "Stress_Level_High                  0\n",
      "Study_Sleep_Ratio                  0\n",
      "Active_Hours                       0\n",
      "dtype: int64\n",
      "         Student_ID  Study_Hours_Per_Day  Extracurricular_Hours_Per_Day  \\\n",
      "count   1766.000000          1766.000000                    1766.000000   \n",
      "unique          NaN                  NaN                            NaN   \n",
      "top             NaN                  NaN                            NaN   \n",
      "freq            NaN                  NaN                            NaN   \n",
      "mean    1008.422424             7.412288                       1.985844   \n",
      "std      576.025556             1.418638                       1.164028   \n",
      "min        1.000000             5.000000                       0.000000   \n",
      "25%      512.250000             6.200000                       1.000000   \n",
      "50%     1014.500000             7.400000                       2.000000   \n",
      "75%     1507.750000             8.600000                       3.000000   \n",
      "max     2000.000000            10.000000                       4.000000   \n",
      "\n",
      "        Sleep_Hours_Per_Day  Social_Hours_Per_Day  \\\n",
      "count           1766.000000           1766.000000   \n",
      "unique                  NaN                   NaN   \n",
      "top                     NaN                   NaN   \n",
      "freq                    NaN                   NaN   \n",
      "mean               7.444507              2.660815   \n",
      "std                1.462278              1.682964   \n",
      "min                5.000000              0.000000   \n",
      "25%                6.200000              1.200000   \n",
      "50%                7.500000              2.500000   \n",
      "75%                8.700000              4.000000   \n",
      "max               10.000000              6.000000   \n",
      "\n",
      "        Physical_Activity_Hours_Per_Day          GPA GPA_Quartile  \\\n",
      "count                       1766.000000  1766.000000         1766   \n",
      "unique                              NaN          NaN            4   \n",
      "top                                 NaN          NaN           Q2   \n",
      "freq                                NaN          NaN          448   \n",
      "mean                           4.481257     3.104247          NaN   \n",
      "std                            2.510649     0.295507          NaN   \n",
      "min                            0.000000     2.240000          NaN   \n",
      "25%                            2.500000     2.890000          NaN   \n",
      "50%                            4.300000     3.100000          NaN   \n",
      "75%                            6.400000     3.310000          NaN   \n",
      "max                           10.000000     3.930000          NaN   \n",
      "\n",
      "        Total_Hours Stress_Level_Moderate Stress_Level_High  \\\n",
      "count   1766.000000                  1766              1766   \n",
      "unique          NaN                     2                 2   \n",
      "top             NaN                 False              True   \n",
      "freq            NaN                  1166               892   \n",
      "mean      23.984711                   NaN               NaN   \n",
      "std        0.155115                   NaN               NaN   \n",
      "min       21.000000                   NaN               NaN   \n",
      "25%       24.000000                   NaN               NaN   \n",
      "50%       24.000000                   NaN               NaN   \n",
      "75%       24.000000                   NaN               NaN   \n",
      "max       24.000000                   NaN               NaN   \n",
      "\n",
      "        Study_Sleep_Ratio  Active_Hours  \n",
      "count         1766.000000   1766.000000  \n",
      "unique                NaN           NaN  \n",
      "top                   NaN           NaN  \n",
      "freq                  NaN           NaN  \n",
      "mean             1.035691     16.540204  \n",
      "std              0.287237      1.453223  \n",
      "min              0.505051     14.000000  \n",
      "25%              0.820608     15.300000  \n",
      "50%              1.000000     16.500000  \n",
      "75%              1.214964     17.800000  \n",
      "max              1.941176     19.000000  \n"
     ]
    }
   ],
   "source": [
    "print(df.isna().sum())\n",
    "print(df.describe(include=\"all\"))"
   ]
  },
  {
   "cell_type": "markdown",
   "id": "5ec03482",
   "metadata": {},
   "source": [
    "### Confirm:\n",
    "- No negative hours.\n",
    "- No totals > 24.\n",
    "- Stress encoded properly."
   ]
  },
  {
   "cell_type": "markdown",
   "id": "995d369b",
   "metadata": {},
   "source": [
    "# 6. Save Final Dataset"
   ]
  },
  {
   "cell_type": "code",
   "execution_count": 11,
   "id": "bf25a519",
   "metadata": {},
   "outputs": [],
   "source": [
    "df.to_csv(\"../data/processed/student_lifestyle_final.csv\", index=False)"
   ]
  }
 ],
 "metadata": {
  "kernelspec": {
   "display_name": "Python 3",
   "language": "python",
   "name": "python3"
  },
  "language_info": {
   "codemirror_mode": {
    "name": "ipython",
    "version": 3
   },
   "file_extension": ".py",
   "mimetype": "text/x-python",
   "name": "python",
   "nbconvert_exporter": "python",
   "pygments_lexer": "ipython3",
   "version": "3.10.2"
  }
 },
 "nbformat": 4,
 "nbformat_minor": 5
}
